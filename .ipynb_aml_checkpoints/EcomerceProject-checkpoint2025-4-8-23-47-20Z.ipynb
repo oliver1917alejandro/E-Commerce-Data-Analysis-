{
  "cells": [
    {
      "cell_type": "code",
      "source": [
        "import pandas as pd\n",
        "import numpy as np\n",
        "import matplotlib.pyplot as plt\n",
        "import seaborn as sns\n",
        "\n",
        "#importing the datasets\n",
        "customers_df = pd.read_csv('customers_dataset.csv')\n",
        "customers_df.head()\n",
        "geo_df = pd.read_csv('geolocation_dataset.csv')\n",
        "geo_df.head()\n",
        "order_payments_df = pd.read_csv('order_payments_dataset.csv')\n",
        "order_payments_df.head()\n",
        "products_df = pd.read_csv('products_dataset.csv')\n",
        "products_df.head()\n",
        "sellers_df = pd.read_csv('sellers_dataset.csv')\n",
        "sellers_df.head()\n",
        "orders_df = pd.read_csv('orders_dataset.csv') \n",
        "orders_df.head()\n",
        "order_items_df = pd.read_csv('order_items_dataset.csv')\n",
        "order_items_df.head()\n",
        "order_reviews_df = pd.read_csv('order_reviews_dataset.csv')\n",
        "order_reviews_df.head()\n",
        "product_category_name_translation_df = pd.read_csv('product_category_name_translation.csv')\n",
        "\n",
        "# Exploring the datasets\n",
        "customers_df.info()\n",
        "geo_df.info()\n",
        "order_payments_df.info()\n",
        "products_df.info()\n",
        "sellers_df.info()\n",
        "orders_df.info()\n",
        "order_items_df.info()\n",
        "order_reviews_df.info()\n",
        "product_category_name_translation_df.info()\n",
        "#null values were not found in any of the datasets\n",
        "\n",
        "# Recency, Frequency and Monetary Value\n",
        "rfm_data = orders_df.merge(order_payments_df, on=\"order_id\")\n",
        "#converting date strings to datetime objects\n",
        "orders_df\n"
      ],
      "outputs": [
        {
          "output_type": "error",
          "ename": "FileNotFoundError",
          "evalue": "[Errno 2] No such file or directory: 'null/Users/oc25ale1917'",
          "traceback": [
            "\u001b[0;31m---------------------------------------------------------------------------\u001b[0m",
            "\u001b[0;31mFileNotFoundError\u001b[0m                         Traceback (most recent call last)",
            "Cell \u001b[0;32mIn[1], line 2\u001b[0m\n\u001b[1;32m      1\u001b[0m \u001b[38;5;28;01mimport\u001b[39;00m\u001b[38;5;250m \u001b[39m\u001b[38;5;21;01mos\u001b[39;00m\n\u001b[0;32m----> 2\u001b[0m \u001b[43mos\u001b[49m\u001b[38;5;241;43m.\u001b[39;49m\u001b[43mchdir\u001b[49m\u001b[43m(\u001b[49m\u001b[38;5;124;43m\"\u001b[39;49m\u001b[38;5;124;43mnull/Users/oc25ale1917\u001b[39;49m\u001b[38;5;124;43m\"\u001b[39;49m\u001b[43m)\u001b[49m\n",
            "\u001b[0;31mFileNotFoundError\u001b[0m: [Errno 2] No such file or directory: 'null/Users/oc25ale1917'"
          ]
        }
      ],
      "execution_count": 1,
      "metadata": {
        "gather": {
          "logged": 1746402806787
        }
      }
    }
  ],
  "metadata": {
    "kernelspec": {
      "name": "python310-sdkv2",
      "language": "python",
      "display_name": "Python 3.10 - SDK v2"
    },
    "language_info": {
      "name": "python",
      "version": "3.10.16",
      "mimetype": "text/x-python",
      "codemirror_mode": {
        "name": "ipython",
        "version": 3
      },
      "pygments_lexer": "ipython3",
      "nbconvert_exporter": "python",
      "file_extension": ".py"
    },
    "microsoft": {
      "ms_spell_check": {
        "ms_spell_check_language": "en"
      },
      "host": {
        "AzureML": {
          "notebookHasBeenCompleted": true
        }
      }
    },
    "kernel_info": {
      "name": "python310-sdkv2"
    },
    "nteract": {
      "version": "nteract-front-end@1.0.0"
    }
  },
  "nbformat": 4,
  "nbformat_minor": 2
}